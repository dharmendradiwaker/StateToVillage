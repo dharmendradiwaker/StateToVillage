{
  "cells": [
    {
      "cell_type": "code",
      "execution_count": 1,
      "metadata": {
        "id": "oH7-of4rkdNg",
        "colab": {
          "base_uri": "https://localhost:8080/"
        },
        "outputId": "f16ade32-269b-4824-fbfa-865c86b11f9d",
        "collapsed": true
      },
      "outputs": [
        {
          "output_type": "stream",
          "name": "stdout",
          "text": [
            "\u001b[?25l   \u001b[90m━━━━━━━━━━━━━━━━━━━━━━━━━━━━━━━━━━━━━━━━\u001b[0m \u001b[32m0.0/9.7 MB\u001b[0m \u001b[31m?\u001b[0m eta \u001b[36m-:--:--\u001b[0m\r\u001b[2K   \u001b[91m━━━━━\u001b[0m\u001b[90m╺\u001b[0m\u001b[90m━━━━━━━━━━━━━━━━━━━━━━━━━━━━━━━━━━\u001b[0m \u001b[32m1.3/9.7 MB\u001b[0m \u001b[31m40.5 MB/s\u001b[0m eta \u001b[36m0:00:01\u001b[0m\r\u001b[2K   \u001b[91m━━━━━━━━━━━━━━━━━━━━━━━━━━\u001b[0m\u001b[91m╸\u001b[0m\u001b[90m━━━━━━━━━━━━━\u001b[0m \u001b[32m6.5/9.7 MB\u001b[0m \u001b[31m93.6 MB/s\u001b[0m eta \u001b[36m0:00:01\u001b[0m\r\u001b[2K   \u001b[91m━━━━━━━━━━━━━━━━━━━━━━━━━━━━━━━━━━━━━━━\u001b[0m\u001b[91m╸\u001b[0m \u001b[32m9.7/9.7 MB\u001b[0m \u001b[31m108.3 MB/s\u001b[0m eta \u001b[36m0:00:01\u001b[0m\r\u001b[2K   \u001b[90m━━━━━━━━━━━━━━━━━━━━━━━━━━━━━━━━━━━━━━━━\u001b[0m \u001b[32m9.7/9.7 MB\u001b[0m \u001b[31m71.5 MB/s\u001b[0m eta \u001b[36m0:00:00\u001b[0m\n",
            "\u001b[?25h\u001b[?25l   \u001b[90m━━━━━━━━━━━━━━━━━━━━━━━━━━━━━━━━━━━━━━━━\u001b[0m \u001b[32m0.0/481.7 kB\u001b[0m \u001b[31m?\u001b[0m eta \u001b[36m-:--:--\u001b[0m\r\u001b[2K   \u001b[90m━━━━━━━━━━━━━━━━━━━━━━━━━━━━━━━━━━━━━━━━\u001b[0m \u001b[32m481.7/481.7 kB\u001b[0m \u001b[31m31.7 MB/s\u001b[0m eta \u001b[36m0:00:00\u001b[0m\n",
            "\u001b[?25h"
          ]
        }
      ],
      "source": [
        "!pip install selenium --upgrade --quiet\n",
        "!pip install beautifulsoup4"
      ]
    },
    {
      "cell_type": "code",
      "execution_count": 2,
      "metadata": {
        "id": "sb85t3-ekj6O",
        "colab": {
          "base_uri": "https://localhost:8080/"
        },
        "outputId": "df3a1445-26b0-4b61-c819-78a6ccf33687",
        "collapsed": true
      },
      "outputs": [
        {
          "output_type": "stream",
          "name": "stdout",
          "text": [
            "Get:1 https://cloud.r-project.org/bin/linux/ubuntu jammy-cran40/ InRelease [3,626 B]\n",
            "Hit:2 https://developer.download.nvidia.com/compute/cuda/repos/ubuntu2204/x86_64  InRelease\n",
            "Get:3 http://security.ubuntu.com/ubuntu jammy-security InRelease [129 kB]\n",
            "Get:4 https://r2u.stat.illinois.edu/ubuntu jammy InRelease [6,555 B]\n",
            "Hit:5 http://archive.ubuntu.com/ubuntu jammy InRelease\n",
            "Get:6 http://archive.ubuntu.com/ubuntu jammy-updates InRelease [128 kB]\n",
            "Hit:7 https://ppa.launchpadcontent.net/deadsnakes/ppa/ubuntu jammy InRelease\n",
            "Get:8 https://r2u.stat.illinois.edu/ubuntu jammy/main amd64 Packages [2,611 kB]\n",
            "Hit:9 https://ppa.launchpadcontent.net/graphics-drivers/ppa/ubuntu jammy InRelease\n",
            "Hit:10 https://ppa.launchpadcontent.net/ubuntugis/ppa/ubuntu jammy InRelease\n",
            "Get:11 http://archive.ubuntu.com/ubuntu jammy-backports InRelease [127 kB]\n",
            "Get:12 https://r2u.stat.illinois.edu/ubuntu jammy/main all Packages [8,458 kB]\n",
            "Get:13 http://archive.ubuntu.com/ubuntu jammy-updates/universe amd64 Packages [1,452 kB]\n",
            "Get:14 http://archive.ubuntu.com/ubuntu jammy-updates/restricted amd64 Packages [3,353 kB]\n",
            "Get:15 http://archive.ubuntu.com/ubuntu jammy-updates/main amd64 Packages [2,696 kB]\n",
            "Fetched 19.0 MB in 4s (5,078 kB/s)\n",
            "Reading package lists...\n",
            "W: Skipping acquire of configured file 'main/source/Sources' as repository 'https://r2u.stat.illinois.edu/ubuntu jammy InRelease' does not seem to provide it (sources.list entry misspelt?)\n",
            "Reading package lists...\n",
            "Building dependency tree...\n",
            "Reading state information...\n",
            "Package chromium is not available, but is referred to by another package.\n",
            "This may mean that the package is missing, has been obsoleted, or\n",
            "is only available from another source\n",
            "However the following packages replace it:\n",
            "  chromium-bsu\n",
            "\n",
            "E: Package 'chromium' has no installation candidate\n",
            "Reading package lists... Done\n",
            "Building dependency tree... Done\n",
            "Reading state information... Done\n",
            "Package chromium is not available, but is referred to by another package.\n",
            "This may mean that the package is missing, has been obsoleted, or\n",
            "is only available from another source\n",
            "However the following packages replace it:\n",
            "  chromium-bsu\n",
            "\n",
            "E: Package 'chromium' has no installation candidate\n"
          ]
        }
      ],
      "source": [
        "import time\n",
        "import selenium\n",
        "from selenium import webdriver\n",
        "from selenium.webdriver.common.by import By\n",
        "!apt-get update --quiet\n",
        "!apt-get install chromium chromium-driver --quiet\n",
        "!apt-get install chromium -y\n",
        "!apt-get install -y gconf-service libasound2 libatk1.0-0 libcairo2 libcups2 libfontconfig1 libgdk-pixbuf2.0-0 libgtk-3-0 libnspr4 libpango-1.0-0 libxss1 fonts-liberation libappindicator1 libnss3 lsb-release xdg-utils\n",
        "!wget https://dl.google.com/linux/direct/google-chrome-stable_current_amd64.deb\n",
        "!dpkg -i google-chrome-stable_current_amd64.deb; apt-get -fy install"
      ]
    },
    {
      "cell_type": "code",
      "source": [
        "from selenium.webdriver.support.ui import WebDriverWait\n",
        "from selenium.webdriver.common.by import By\n",
        "from selenium.webdriver.common.keys import Keys\n",
        "from selenium.webdriver.support import expected_conditions as EC\n",
        "from bs4 import BeautifulSoup\n",
        "import requests\n",
        "import time\n",
        "import concurrent.futures\n",
        "import random\n",
        "import json\n"
      ],
      "metadata": {
        "id": "romTtvr8FhCi"
      },
      "execution_count": null,
      "outputs": []
    },
    {
      "cell_type": "code",
      "execution_count": 5,
      "metadata": {
        "id": "L2kpDeipkonn"
      },
      "outputs": [],
      "source": [
        "def web_driver():\n",
        "    options = webdriver.ChromeOptions()\n",
        "    options.add_argument(\"--verbose\")\n",
        "    options.add_argument('--no-sandbox')\n",
        "    options.add_argument('--headless')\n",
        "    options.add_argument('--disable-gpu')\n",
        "    options.add_argument(\"--window-size=1920, 1200\")\n",
        "    options.add_argument('--disable-dev-shm-usage')\n",
        "    driver = webdriver.Chrome(options=options)\n",
        "    return driver"
      ]
    },
    {
      "cell_type": "code",
      "source": [
        "# fatching Villages List.\n",
        "def get_village(url):\n",
        "    village_list = {}\n",
        "    driver = web_driver()\n",
        "    driver.get(url)\n",
        "    delay = random.uniform(1, 3)\n",
        "    time.sleep(delay)\n",
        "\n",
        "    # Parse the page source with BeautifulSoup\n",
        "    soup = BeautifulSoup(driver.page_source, 'html.parser')\n",
        "    table = soup.find('tbody')\n",
        "    if table:\n",
        "        rows = table.find_all('tr')\n",
        "        # Fatching on 3 villages name\n",
        "        for row in rows[:3]:\n",
        "            cols = row.find_all('td')\n",
        "            if len(cols) >= 2:\n",
        "                village_name = cols[1].text.strip()\n",
        "                village_code = cols[2].text.strip()\n",
        "                village_list[village_name] = village_code\n",
        "    return village_list\n",
        "\n",
        "\n",
        "# Fatching Tehsil names\n",
        "def get_tehsil(url):\n",
        "  tehsil_list = {}\n",
        "  driver = web_driver()\n",
        "  driver.get(url)\n",
        "  delay = random.uniform(2, 3)\n",
        "  time.sleep(delay)\n",
        "\n",
        "  # Get the page source after it's loaded\n",
        "  page_source = driver.page_source\n",
        "\n",
        "  # Parse the page source with BeautifulSoup\n",
        "  soup = BeautifulSoup(page_source, 'html.parser')\n",
        "  table = soup.find_all('tbody')\n",
        "\n",
        "  #Extracting only 3 tehsil names\n",
        "  for tehsils in table[:3]:\n",
        "    tehsil = tehsils.find_all('a')\n",
        "    for all_tehsil in tehsil[:3]:\n",
        "      tehsil_name = all_tehsil.text\n",
        "      tehsil_list[tehsil_name] = {}\n",
        "      villages_url = 'https://vlist.in' + all_tehsil['href']\n",
        "      delay = random.uniform(2, 4)\n",
        "      time.sleep(delay)\n",
        "      villages = get_village(villages_url)\n",
        "      tehsil_list[tehsil_name] = villages\n",
        "  return tehsil_list\n",
        "\n",
        "\n",
        "# Fatching District Names\n",
        "def get_district(url):\n",
        "  distict_list = {}\n",
        "  driver = web_driver()\n",
        "  driver.get(url)\n",
        "  delay = random.uniform(2, 3)\n",
        "  time.sleep(delay)\n",
        "  page_source = driver.page_source\n",
        "  soup = BeautifulSoup(page_source, 'html.parser')\n",
        "  table = soup.find_all('tbody')\n",
        "\n",
        "  # Extracting only 3 disticts names\n",
        "  for disticts in table[:3]:\n",
        "    state = disticts.find_all('a')\n",
        "    for all_distict in state[:3]:\n",
        "      delay = random.uniform(2,5)\n",
        "      time.sleep(delay)\n",
        "      distict_name = all_distict.text\n",
        "      distict_list[distict_name] = {}\n",
        "      tehsil_url = 'https://vlist.in' + all_distict['href']\n",
        "      delay = random.uniform(1, 3)\n",
        "      time.sleep(delay)\n",
        "      distict = get_tehsil(tehsil_url)\n",
        "      distict_list[distict_name] = distict\n",
        "  return distict_list\n",
        "\n",
        "\n",
        "# Fatching States Name\n",
        "def get_one_state(url):\n",
        "    try:\n",
        "        with open('states_data.json', 'r') as json_file:\n",
        "            states_list = json.load(json_file)\n",
        "    except FileNotFoundError:\n",
        "        states_list = {}\n",
        "    driver = web_driver()\n",
        "    try:\n",
        "        driver.get(url)\n",
        "        delay = random.uniform(2, 5)\n",
        "        time.sleep(delay)\n",
        "\n",
        "        # Parse the page source with BeautifulSoup\n",
        "        soup = BeautifulSoup(driver.page_source, 'html.parser')\n",
        "        table = soup.find_all('tbody')\n",
        "\n",
        "        # Check if table is found and extract the first state URL\n",
        "        if table:\n",
        "            for new in table:\n",
        "                state_rows = new.find_all('tr')\n",
        "\n",
        "                for i in range(1, 36):  # Loop from 1 to 35\n",
        "                    if i < len(state_rows):  # Ensure the index is within range\n",
        "                        state_row = state_rows[i]\n",
        "                        state_link = state_row.find('a')\n",
        "                        if state_link:\n",
        "                          state_name = state_link.text\n",
        "                          states_list[state_name] = {}\n",
        "                          district_url = 'https://vlist.in' + state_link['href']\n",
        "                          district_data = get_district(district_url)\n",
        "                          delay = random.uniform(3, 5)\n",
        "                          time.sleep(delay)\n",
        "                        states_list[state_name] = district_data\n",
        "\n",
        "            # Save the states_list dictionary to a JSON file\n",
        "            with open('states_data.json', 'w') as json_file:\n",
        "                json.dump(states_list, json_file, indent=4)\n",
        "    finally:\n",
        "        driver.quit()  # Make sure to quit the driver after use\n",
        "\n",
        "    return states_list\n",
        "\n",
        "\n",
        "url = 'https://vlist.in/'\n",
        "print(get_one_state(url))"
      ],
      "metadata": {
        "id": "UwGtoyLMZSjV",
        "colab": {
          "base_uri": "https://localhost:8080/"
        },
        "outputId": "8d4d51ca-4f0f-4e2f-daec-07bea5c7bade"
      },
      "execution_count": 6,
      "outputs": [
        {
          "output_type": "stream",
          "name": "stdout",
          "text": [
            "{'Andaman and Nicobar Islands': {'Nicobars': {'Car Nicobar': {'Arong': '645015', 'Big Lapati': '645025'}, 'Great Nicobar': {'7 km Farm': '645196', 'Afra Bay': '645166'}, 'Nancowry': {'Al-Hit-Touch/Balu Basti': '645094', 'Alhiat': '645030'}}, 'North  & Middle Andaman': {'Diglipur': {'Aam Tikry (FDCA)': '645280', 'Aerial Bay (RV)': '645227'}, 'Mayabunder': {'Asha Nagar (EFA)': '645338', 'Aves Island (RV)': '645293'}, 'Rangat': {'Abaygarh (RV)': '645380', 'Adojig (RV) (including EFA)': '645374'}}, 'South Andaman': {'Ferrargunj': {'Alipur (RV)': '645448', 'Aniket (RV)': '645464'}, 'Little Andaman': {'Butler Bay Forest Camp 4-I (FDCA)': '645570', 'Butler Bay Forest Camp 4-II (FDCA)': '645569'}, 'Port Blair': {'Bada Khari (FC)': '645547', 'Bada Nallaha/Bada Balu (EFA)': '645542'}}}, 'Andhra Pradesh': {'Adilabad': {'Adilabad': {'Adilabad (M)': '802896', 'Ankapoor': '569005'}, 'Asifabad ': {'Ada': '569480', 'Ada - Dasnapur': '569522'}, 'Bazarhathnoor': {'Ananthapur': '569647', 'Balanpur': '569663'}}, 'Anantapur': {'Agali': {'Agali': '595406', 'Akkagaladevarahalli': '595401'}, 'Amadagur': {'Amadagur': '595503', 'Cheekirevulapalle': '595508'}, 'Amarapuram': {'Amarapuram': '595372', 'Basavanahalli': '595378'}}, 'Chittoor': {'B.Kothakota': {'B.Kothakota': '596122', 'Badikayalapalle': '596124'}, 'Baireddipalle': {'Alapalle': '596743', 'Baireddipalle': '596756'}, 'Bangarupalem': {'Beripalle': '597025', 'Bodabandla': '597028'}}}, 'Arunachal Pradesh': {'Anjaw': {'Chaglagam': {'Abohagam': '266825', 'Aphumna': '266826'}, 'Goiliang': {'Brailiang': '266797', 'Braptong': '266813'}, 'Hawai': {'12th K.M. Camp': '266961', '15th K.M. Camp': '266957'}}, 'Changlang': {'Bordumsa': {'Bijoypur-I Bl.I -III': '264391', 'Bijoypur-II Bl.I - II': '264392'}, 'Changlang': {'(5 K.M. dairy Mill Tinkengsung)': '264131', '12 K.M. Tea Garden (Thingdan - II)': '264129'}, 'Diyun': {'Avoipur Bl. I - II': '264349', 'Balupather': '264339'}}, 'Dibang Valley': {'Anelih': {'Adane': '266010', 'Aiso': '266011'}, 'Anini ': {'Achali': '265928', 'Achengo': '265937'}, 'Etalin': {'Akhuli': '265968', 'Akunli': '265992'}}}, 'Assam': {'Baksa': {'Baganpara (Pt)': {'Amingaon': '304568', 'Angardhua': '304588'}, 'Bajali (Pt)': {'Bagapara': '283335', 'Balipara': '283313'}, 'Barama (Pt)': {'Agchia': '304427', 'Akhara': '303629'}}, 'Barpeta': {'Baghbor': {'2 No.Chachara': '282806', '3No.Alupati N.C.': '282881'}, 'Bajali (Pt)': {'Bagapara': '283335', 'Balipara': '283313'}, 'Barnagar (Pt)': {'Ahom Pathar': '282641', 'Aikhari Bilar Pathar': '304156'}}, 'Bongaigaon': {'Bijni (Pt)': {'Abadi': '301766', 'Abdaguri No. 1': '302223'}, 'Boitamari': {'Amguri': '301342', 'Bajitpara': '301335'}, 'Bongaigaon (Pt)': {'Baripukhuri Pt I': '301318', 'Baripukhuri Pt II': '301319'}}}, 'Bihar': {'Araria': {'Araria': {'Araria': '221845', 'Araria (Nagar Parishad)': '801307'}, 'Bhargama': {'Akarthappa': '221679', 'Baija Patti': '221677'}, 'Forbesganj': {'Ahmadpur': '221560', 'Amauna': '221637'}}, 'Arwal': {'Arwal': {'Abgila': '260635', 'Amra': '260647'}, 'Kaler': {'Agnur': '260704', 'Bakhtar': '260716'}, 'Karpi': {'Abgila': '260769', 'Aiyara': '260729'}}, 'Aurangabad': {'Aurangabad': {'Akauna': '253496', 'Alampur': '253416'}, 'Barun': {'Adma Rastipur': '253706', 'Ahamad Chak': '253588'}, 'Daudnagar': {'Agini': '252732', 'Akorha': '252716'}}}, 'Chandigarh': {'Chandigarh': {'Chandigarh': {'Behlana (CT)': '040098', 'Chandigarh (M Corp. + OG)': '800286'}}}, 'Chhattisgarh': {'Bastar': {'Bade Rajpur': {'Aamaguhan': '448648', 'Amgaon': '448624'}, 'Bakavand': {'Amadula': '449411', 'Badedeoda': '449421'}, 'Bastanar': {'Adwal': '449270', 'Bade Bodenar': '449262'}}, 'Bijapur': {'Bhairamgarh': {'Aader': '451254', 'Aaklanka': '451163'}, 'Bhopalpattnam': {'Aaloor': '450816', 'Adedwaya': '450828'}, 'Bijapur': {'Aaded': '451048', 'Aded': '451064'}}, 'Bilaspur': {'Bilaspur': {'Akaltari': '438705', 'Amtara': '438736'}, 'Bilha': {'Amaldiha': '439011', 'Ameri Akbari': '438995'}, 'Kota': {'Amagohan': '437915', 'Amali': '438044'}}}, 'Dadra & Nagar Haveli': {'Dadra & Nagar Haveli': {'Dadra & Nagar Haveli': {'Ambabari': '524971', 'Amboli': '524962'}}}, 'Daman & Diu': {'Daman': {'Daman': {'Bhamati': '524918', 'Bhimpore (CT)': '524928'}}, 'Diu': {'Diu': {'Bhucharvada': '524909', 'Diu (M CI)': '802637'}}}, 'Goa': {'North Goa': {'Bardez': {'Aldona (CT)': '626704', 'Anjuna (CT)': '626694'}, 'Bicholim': {'Adwalpale': '626745', 'Amone': '626758'}, 'Pernem': {'Agarvado': '626657', 'Alorna': '626649'}}, 'South Goa': {'Canacona': {'Agonda': '627023', 'Anjadip': '627029'}, 'Mormugao': {'Arossim': '626884', 'Cansaulim': '626883'}, 'Quepem': {'Adnem': '626948', 'Ambaulim': '626947'}}}, 'Gujarat': {'Ahmadabad': {'Ahmadabad City': {'Ahmadabad (M Corp.) (Part)': '802484', 'Ahmadabad Cantonment (CB)': '802483'}, 'Barwala': {'Ankevaliya': '511853', 'Barwala (M)': '802488'}, 'Bavla': {'Adroda': '511772', 'Amipura': '511786'}}, 'Amreli': {'Amreli': {'Amarpur(Varudi)': '515592', 'Amreli (M + OG)': '802542'}, 'Babra': {'Amarvalpar': '515475', 'Babra (M)': '802539'}, 'Bagasara': {'Adpur': '515656', 'Bagasara (M)': '802543'}}, 'Anand  ': {'Anand': {'Adas': '516940', 'Ajarpura': '516908'}, 'Anklav': {'Ambali': '517137', 'Ambav': '517135'}, 'Borsad': {'Alarsa': '517100', 'Amiyad': '517106'}}}, 'Haryana': {'Ambala': {'Ambala': {'Addu Majra (278)': '057489', 'Ahman (175)': '057426'}, 'Barara': {'Abdulgarh (247)': '057646', 'Adhoi (233)': '057642'}, 'Naraingarh': {'Ahmadpur (303)': '057288', 'Akbarpur (305)': '057275'}}, 'Bhiwani': {'Badhra': {'Badhra(40)': '061537', 'Badrai(9)': '061556'}, 'Bawani Khera': {'Aurangnagar (134)': '061119', 'Baliali (44)': '061123'}, 'Bhiwani': {'Ajitpura (105)': '061178', 'Asalwas Dubia (54)': '061188'}}, 'Faridabad': {'Ballabgarh': {'Ahmadpur(62)': '063578', 'Akbarpur(178)': '063540'}, 'Faridabad': {'Alampur(32)': '063439', 'Alawalpur(30)': '063443'}}}, 'Himachal Pradesh': {'Bilaspur': {'Bharari': {'Badsara  (292)': '019171', 'Bah  (305)': '019203'}, 'Bilaspur Sadar': {'Badhiat  (176)': '019761', 'Badhu  (262)': '019818'}, 'Ghumarwin': {'Amar Singh Pura  (473/1)': '019088', 'Amarpur  (457)': '019098'}}, 'Chamba': {'Bhalai': {'Andral  (62)': '007339', 'Baggi  (20)': '007300'}, 'Bhattiyat': {'Aled  (120)': '007475', 'Aru - da - Pher  (250)': '007597'}, 'Brahmaur': {'Liundi  (35)': '008186', 'Auhra  (22)': '008170'}}, 'Hamirpur': {'Barsar': {'Adarin (30/15)': '017409', 'Aghar (31/1)': '017428'}, 'Bhoranj': {'Aman (44/64)': '017880', 'Amroh (43/54)': '018043'}, 'Dhatwal': {'Aghwin Bhuly (34/65)': '017703', 'Aghwin Upperly (34/64)': '017704'}}}, 'Jammu & Kashmir': {'Anantnag': {'Anantnag': {'Achhabal (MC)': '800034', 'Akura': '003657'}, 'Bijbehara': {'Rakh Moman Dangit Pora': '003630', 'Ader': '003621'}, 'Dooru': {'Checki Wan Gund': '003855', 'Prani Gam': '003858'}}, 'Badgam': {'Beerwah': {'Adina': '000449', 'Alam Guchoo': '000522'}, 'Budgam': {'Alaw Pora': '000638', 'Arath': '000627'}, 'Chadoora': {'Auli Pora': '000781', 'Auwan Pora': '000769'}}, 'Bandipore': {'Bandipora': {'Ahmi Sharief': '002737', 'Aloosa': '002747'}, 'Gurez': {'Abdullan': '002726', 'Baduab': '002724'}, 'Sonawari': {'Ajas': '002777', 'Asham': '002794'}}}, 'Jharkhand': {'Bokaro': {'Bermo': {'Armo': '362294', 'Bermo (CT)': '362298'}, 'Chandankiyari': {'Adarkunri': '362731', 'Agardi': '362726'}, 'Chandrapura': {'Alargo': '362267', 'Bandhdih': '362284'}}, 'Chatra': {'Chatra': {'Abukatu': '348676', 'Ahuri': '348795'}, 'Gidhaur': {'Amin': '349236', 'Bain': '349254'}, 'Itkhori': {'Ambatari': '349095', 'Anup Chak': '349073'}}, 'Deoghar': {'Deoghar': {'Ajabraydih': '353260', 'Alakhjora': '353047'}, 'Devipur': {'Amasar': '354395', 'Ambabad': '354251'}, 'Karon': {'Alampur': '354893', 'Ambatila': '354826'}}}, 'Karnataka': {'Bagalkot ': {'Badami': {'Adagal': '598748', 'Agasarakoppa': '598647'}, 'Bagalkot': {'Achanur': '598827', 'Alur': '598815'}, 'Bilgi': {'Algundi': '598510', 'Amalzari': '598473'}}, 'Bangalore': {'Anekal': {'A Medihalli': '613308', 'Adigarakallahalli': '613230'}, 'Bangalore East': {'Adur': '613077', 'Anagalapura': '613073'}, 'Bangalore North': {'Adakamaranahalli': '612779', 'Adde Vishwanathapura': '612834'}}, 'Bangalore Rural': {'Devanahalli ': {'Abachikkanahalli': '625373', 'Agalakote': '625438'}, 'Dod Ballapur ': {'Acharlahalli': '625058', 'Adakavala': '624996'}, 'Hosakote ': {'Agasarahalli': '625598', 'Agrahara Vaddahalli': '625553'}}}, 'Kerala': {'Alappuzha': {'Ambalappuzha': {'Alappuzha (M + OG)': '803299', 'Ambalappuzha': '628229'}, 'Chengannur': {'Ala (Part)': '628272', 'Chengannur  (Part)': '628270'}, 'Cherthala': {'Arookutty (CT)': '628214', 'Aroor (CT)': '628215'}}, 'Ernakulam': {'Aluva': {'Aluva (M)': '803286', 'Angamaly (M)': '803285'}, 'Kanayannur': {'Amballur (CT)': '628019', 'Cheranallur (CT)': '628009'}, 'Kochi': {'Chellanam': '627997', 'Cheriyakadavu (OG) (Part)': '645602'}}, 'Idukki ': {'Devikulam': {'Anaviratty': '628057', 'Kannan Devan Hills': '628054'}, 'Peerumade': {'Elappara': '628105', 'Kokkayar': '628106'}, 'Thodupuzha': {'Alacode': '628097', 'Arakkulam': '628100'}}}, 'Lakshadweep': {'Lakshadweep': {'Agatti': {'Agatti': '627044', 'Bangaram': '627043'}, 'Amini': {'Amini (CT)': '627030'}, 'Andrott ': {'Andrott (CT)': '627046'}}}, 'Madhya Pradesh': {'Alirajpur': {'Alirajpur': {'Aali': '505260', 'Abadiya': '505391'}, 'Bhavra': {'Airan': '504937', 'Aman Kuwa': '504919'}, 'Jobat': {'Agoni': '504961', 'Akholi': '504973'}}, 'Anuppur': {'Anuppur': {'Agriyanar': '501935', 'Akua': '501932'}, 'Jaithari': {'Amadand': '502004', 'Amgawan': '501957'}, 'Kotma': {'Bachhauli': '501773', 'Bagaiha Tola': '501719'}}, 'Ashoknagar': {'Ashoknagar': {'Akhai Tappa': '500452', 'Akhaidan': '500363'}, 'Chanderi': {'Aket': '500305', 'Amjhera': '500206'}, 'Isagarh': {'Agrai': '500038', 'Ajleshwar': '500006'}}}, 'Maharashtra': {'Ahmadnagar': {'Akola': {'Abit Khind': '557293', 'Agar': '557238'}, 'Jamkhed': {'Aghi': '558671', 'Anandwadi': '558687'}, 'Karjat': {'Akhoni': '558624', 'Alsunde': '558584'}}, 'Akola': {'Akola': {'Agar': '529995', 'Akhatwada': '530046'}, 'Akot': {'Adgaon Kh': '529734', 'Agaskhed': '529863'}, 'Balapur': {'Adoshi': '529923', 'Andura': '529890'}}, 'Amravati': {'Achalpur': {'Achalpur (M Cl)': '802685', 'Ajitpur': '531898'}, 'Amravati': {'Aliyabad': '532706', 'Amannapur': '532643'}, 'Anjangaon Surji': {'Adgaon': '531738', 'Adgaon   Ade': '531787'}}}, 'Manipur': {'Bishnupur': {'Bishnupur': {'Bishnupur (MCI)': '801471', 'Khoijuman Khullen': '269885'}, 'Moirang': {'Chairen': '269910', 'Champu Khangpok': '269913'}, 'Nambol  ': {'Irengbam': '269878', 'Ishok': '269874'}}, 'Chandel': {'Chakpikarong ': {'Aibol Jamkhomang': '270994', 'Aibol Joupi': '270990'}, 'Chandel ': {'Abungkhu / Abungnikhu': '270792', 'Papaam': '270781'}, 'Machi': {'Biyang': '270605', 'Bongli': '270608'}}, 'Churachandpur': {'Churachandpur': {'Thingchom': '269676', 'Aimol': '269485'}, 'Churachandpur North': {'Aina': '269368', 'Ainujang': '269377'}, 'Singngat': {'Behjang (V)': '269847', 'Allusingtam': '269803'}}}, 'Meghalaya': {'East Garo Hills': {'Dambo Rongjeng ': {'Doadugittim': '274932', 'Nongbak Rengkil': '274828'}, 'Kharkutta': {'Abeagittim': '275007', 'Adokgre': '275051'}, 'Resubelpara ': {'Wasim Dajongpara': '274467', 'Abanda': '274688'}}, 'East Khasi Hills': {'Khatarshnong Laitkroh': {'12th Mer': '278507', 'Dewiong': '278569'}, 'Mawkynrew': {'Dienglieng': '278432', 'Iewrynghep': '278470'}, 'Mawphlang': {'Krang Nongshiliang Lumkynton': '278084', 'Sawlad Marbisu': '278192'}}, 'Jaintia Hills': {'Amlarem': {'Amdoh': '279353', 'Amjajer Roko': '279332'}, 'Khliehriat': {'Bapung shnong': '279398', 'Bapung Skur': '279399'}, 'Laskein': {'Barato': '279198', 'Bhain': '279217'}}}, 'Mizoram': {'Aizawl': {'Aibawk': {'Aibawk': '271236', 'Chamring': '271248'}, 'Darlawn': {'Chhanchhuahna Khawpui': '271207', 'Darlawn (NT)': '801504'}, 'Phullen': {'Daido': '271228', 'Khawlian': '271226'}}, 'Champhai': {'Champhai': {'Champhai (NT)': '801510', 'Hnahlan': '271344'}, 'East Lungdar (Part)': {'Bawktlang': '271412', 'Biate (NT)': '801511'}, 'Khawbung': {'Buang': '271350', 'Bulfekzawl': '271352'}}, 'Kolasib': {\" 'N' Thingdawl\": {'Asproveng': '271144', 'Bukpui': '271151'}, 'Bilkhawthlir': {'Bairabi (NT)': '801502', 'Bilkhawthlir': '271162'}, 'Tlangnuam (Part)': {'Aizawl (NT)': '801506', 'Bawnga Veng': '271182'}}}, 'Nagaland': {'Dimapur ': {'Aquqhnaqua': {'Aghunaqa': '267608', 'Ahoto': '267614'}, 'Chumukedima': {'5Th Mile Model': '267695', '7th Mile Model': '267711'}, 'Dhansiripar': {'A.K. Industrial (UR)': '267750', 'Ahoi (UR)': '267752'}}, 'Kiphire': {'Amahator': {'Amahator Hq': '268112', 'Amahator Vill.': '268111'}, 'Khongsa': {'Fakim': '268179', 'Khong': '268183'}, 'Kiphire Sadar': {'Anatongre': '268115', 'Anatongre (GREF)': '268116'}}, 'Kohima': {'Botsa': {'Botsa': '268245', 'Gareiphe Basa': '268250'}, 'Chiephobozou': {'4Th NAP Batt. Thiza': '268239', 'Chiephobozou': '268231'}, 'Jakhama': {'Jakhama Hq (UR)': '268266', 'Jakhama Vill.': '268267'}}}, 'NCT of Delhi': {'Central': {'Darya Ganj': {'DMC (U) (Part)': '800441'}, 'Pahar Ganj': {'NDMC (Part)': '800442'}}, 'East': {'Gandhi Nagar': {'Shakar Pur Baramad (CT)': '063983'}, 'Preet Vihar': {'Chilla Saroda Bangar (CT)': '063989', 'Chilla Saroda Khadar (CT)': '063990'}}, 'North': {'Civil Lines': {'Badar Pur Majra Burari': '063952', 'Burari  (CT)': '063957'}}}, 'Odisha': {'Anugul  ': {'Anugul ': {'Amantapur': '404262', 'Ambapal': '404197'}, 'Athmallik ': {'Aida': '404867', 'Anantapali': '404865'}, 'Banarpal': {'Abhimanpur': '404133', 'Apartipur': '404142'}}, 'Balangir': {'Balangir': {'Adendungri': '420194', 'Aenlachuan': '420233'}, 'Bangomunda': {'Ailabhata': '421285', 'Asurla': '421332'}, 'Belpara ': {'Ainlabhata': '420958', 'Ainlapali': '420979'}}, 'Baleshwar': {'Balaramgadi Marine ': {'Balaramgadi': '392927', 'Mirjapur': '392929'}, 'Baleshwar (M)': {'Baleshwar (M + OG)': '801833', 'Baleswwar Industrial Estate (OG) (Ward 32)': '394273'}, 'Baleshwar Sadar': {'Abdulapur': '392835', 'Ajodhyanagarpatana': '392788'}}}, 'Puducherry': {'Karaikal': {'Karaikal Taluk': {'Karaikal (M)': '804040', 'Keezhaiyur (North)': '644991'}, 'Thirunallar Taluk': {'Ambagarathur': '645001', 'Keezhavoor (Part)': '645006'}}, 'Mahe': {'Mahe Taluk': {'Mahe (M)': '804039'}}, 'Puducherry': {'Bahour Taluk': {'Aranganur': '644970', 'Bahour': '644978'}, 'Ozhukarai Taluk': {'Ozhukarai (M)': '804037'}, 'Puducherry Taluk': {'Abishegapakkam': '644918', 'Ariankuppam (CT)': '644921'}}}, 'Punjab': {'Amritsar ': {'Ajnala': {'Bhaggupur Bet (15)': '037178', 'Mattey Nangal (260)': '037347'}, 'Amritsar -I  ': {'Chhapa Ramsingh (255)': '037561', 'Abdal (229)': '037461'}, 'Amritsar- II ': {'Daoke  (426)': '037668', 'Rajatal (424)': '037666'}}, 'Barnala': {'Barnala': {'Amla Singhwala (47)': '039996', 'Aspal kalan (79)': '039964'}, 'Tapa': {'Alkran (11)': '040064', 'Badhata (437)': '040069'}}, 'Bathinda': {'Bathinda': {'Ablu (174)': '035765', 'Akalia Kalan (8)': '035759'}, 'Rampura Phul': {'Adampura (29)': '035653', 'Aklia Jalal (21)': '035645'}, 'Talwandi Sabo': {'Amarpura Urf Gurthuri (112)': '035837', 'Bagha (119)': '035848'}}}, 'Rajasthan': {'Ajmer': {'Ajmer': {'Ajaysar': '091603', 'Ajmer (M Corp.)': '800570'}, 'Beawar': {'Adabala': '091892', 'Amarpura(Kali Kankar)': '091799'}, 'Bhinay': {'Amargarh': '092182', 'Arjunpura': '092202'}}, 'Alwar': {'Alwar': {'Achalpuri': '072874', 'Ahirbas': '072873'}, 'Bansur': {'Alampur': '072987', 'Alanpur': '072912'}, 'Behror': {'Adeend': '071783', 'Ajmeripur': '071909'}}, 'Banswara': {'Bagidora': {'Agoriya': '099392', 'Amariya Para': '099472'}, 'Banswara': {'Abapura': '099111', 'Adi Bheet': '099087'}, 'Garhi': {'Adarshpura': '098792', 'Agarpura': '098732'}}}, 'Sikkim': {'East District': {'Gangtok': {'Aritar (Dung-Dung)': '261261', 'Assam': '261316'}, 'Pakyong': {'Aho': '261330', 'Amba': '261344'}, 'Rongli': {'Aritar': '261372', 'Changeylakha': '261366'}}, 'North  District': {'Chungthang': {'Chungthang': '260927', 'Lachen': '260925'}, 'Mangan': {'Barfok': '260951', 'Chawang': '260967'}}, 'South District': {'Namchi': {'Aifaltar': '261181', 'Assangthang': '261128'}, 'Ravong': {'Bakkhim': '261214', 'Barfung': '261213'}}}, 'Tamil Nadu': {'Ariyalur  ': {'Ariyalur': {'Alagiyamanavalam': '636517', 'Alanduraiyarkattalai': '636486'}, 'Sendurai': {'Adhanakurichi': '636309', 'Alathiyur': '636308'}, 'Udayarpalayam': {'Adichanur RF': '636444', 'Alagapuram': '636338'}}, 'Coimbatore': {'Coimbatore North': {'Agraharasamakulam': '644431', 'Akkaraisengapalli': '644407'}, 'Coimbatore South': {'Alanthurai (TP)': '803994', 'Arisippalayam': '644464'}, 'Mettupalayam': {'Anaikatti North R.F.': '644369', 'Belladhi': '644355'}}, 'Cuddalore': {'Chidambaram': {'Adanur (Bhuvanagiri)': '636773', 'Agara Alambadi': '636772'}, 'Cuddalore': {'Alagiyanatham': '636635', 'Alappakkam': '636680'}, 'Kattumannarkoil': {'Achalpuram': '637044', 'Adhanur (Mannargudi)': '637049'}}}, 'Tripura': {'Dhalai': {'Ambassa': {'Auliraipara': '272499', 'Bagmara': '272492'}, 'Chhamanu': {'Central Catchment R.F.': '272536', 'Dakshin Longtarai': '272529'}, 'Dumburnagar': {'Barabari': '272538', 'Bhagirath Para': '272540'}}, 'North Tripura': {'Damchhara': {'Bangsul': '272658', 'Damchhara': '272662'}, 'Dasda': {'Belianchief (Part)': '272730', 'Central Catchment R.F.': '272728'}, 'Gournagar': {'Bhagaban Nagar': '272608', 'Bilashpur': '272606'}}, 'South Tripura ': {'Amarpur': {'Bampur': '272164', 'Baramura Deotamura R.F. (Part)': '272175'}, 'Bokafa ': {'Abhangachhara': '272338', 'Bagafa (Part)': '272314'}, 'Hrishyamukh': {'Abhaynagar': '272301', 'Bashpadua (Part)': '272294'}}}, 'Uttar Pradesh': {'Agra': {'Agra': {'Abhaypura': '124607', 'Agra (CB)': '800805'}, 'Bah': {'Abhaypura': '125314', 'Amahi': '125377'}, 'Etmadpur': {'Agarpur': '124495', 'Agwarkhas': '124552'}}, 'Aligarh': {'Atrauli': {'Abhaypur Bahlolpur': '122283', 'Abunasirpur': '122210'}, 'Gabhana': {'Akravat': '121974', 'Amrauli': '122028'}, 'Iglas': {'Agorana': '122839', 'Ahlad': '122762'}}, 'Allahabad ': {'Allahabad': {'A.D.A. Colony (OG)': '161843', 'Abdul Wahabpur': '161774'}, 'Bara  ': {'Abhaipur': '162035', 'Amgodar': '162034'}, 'Handia': {'Ahiri': '163097', 'Ajabaiga': '162727'}}}, 'Uttarakhand': {'\"Almora': {'\"Almora': {'.Batgal Routela': '053017', 'Adhar Muafi': '053034'}, '\"Dwarahat': {'Agar': '052638', 'Agina': '052769'}, 'Bhanoli': {'Amogh': '053671', 'Andoli': '053578'}}, 'Bageshwar': {'\"Bageshwar': {'99999999Fff1 / Kapkot Range': '051246', '99999999Fff3/ Bageshwar Range': '051247'}, 'Garud': {'Agar': '051353', 'Ainchar': '051313'}, 'Kanda': {'Adhyali': '050710', 'Agar': '050761'}}, 'Chamoli': {'Chamoli': {'Banswara Chak sainti': '041118', 'Ala chak bura': '041084'}, 'Gairsain': {'Patto (Pemtha)': '041850', 'Aali Majyari': '041849'}, 'Joshimath ': {'Aira': '040859', 'Arurhi Paturi': '040811'}}}, 'West Bengal': {'Bankura ': {'Bankura - I': {'Achuri': '326860', 'Agaya': '326989'}, 'Bankura - II': {'Adra': '327125', 'Agayanandanpur': '327141'}, 'Barjora': {'Amthia': '327335', 'Arjuni': '327249'}}, 'Barddhaman ': {'Ausgram - I': {'Alefnagar': '318980', 'Aligram': '319019'}, 'Ausgram - II': {'Abhirampur': '318952', 'Aduria': '318906'}, 'Barabani': {'Aliganja': '318550', 'Alipur': '318548'}}, 'Birbhum': {'Bolpur Sriniketan': {'Adityapur': '317792', 'Albandha': '317765'}, 'Dubrajpur': {'Adampur': '318154', 'Aduria': '318084'}, 'Illambazar': {'Achhaipara': '318018', 'Akamba': '317975'}}}}\n"
          ]
        }
      ]
    }
  ],
  "metadata": {
    "colab": {
      "provenance": [],
      "gpuType": "T4"
    },
    "kernelspec": {
      "display_name": "Python 3",
      "name": "python3"
    },
    "language_info": {
      "name": "python"
    },
    "accelerator": "GPU"
  },
  "nbformat": 4,
  "nbformat_minor": 0
}